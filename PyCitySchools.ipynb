{
 "cells": [
  {
   "attachments": {},
   "cell_type": "markdown",
   "metadata": {},
   "source": [
    "# PyCity Schools Analysis\n",
    "\n",
    "- Your analysis here\n",
    "  \n",
    "---"
   ]
  },
  {
   "cell_type": "code",
   "execution_count": 130,
   "metadata": {},
   "outputs": [
    {
     "data": {
      "text/html": [
       "<div>\n",
       "<style scoped>\n",
       "    .dataframe tbody tr th:only-of-type {\n",
       "        vertical-align: middle;\n",
       "    }\n",
       "\n",
       "    .dataframe tbody tr th {\n",
       "        vertical-align: top;\n",
       "    }\n",
       "\n",
       "    .dataframe thead th {\n",
       "        text-align: right;\n",
       "    }\n",
       "</style>\n",
       "<table border=\"1\" class=\"dataframe\">\n",
       "  <thead>\n",
       "    <tr style=\"text-align: right;\">\n",
       "      <th></th>\n",
       "      <th>Student ID</th>\n",
       "      <th>student_name</th>\n",
       "      <th>gender</th>\n",
       "      <th>grade</th>\n",
       "      <th>school_name</th>\n",
       "      <th>reading_score</th>\n",
       "      <th>math_score</th>\n",
       "      <th>School ID</th>\n",
       "      <th>type</th>\n",
       "      <th>size</th>\n",
       "      <th>budget</th>\n",
       "    </tr>\n",
       "  </thead>\n",
       "  <tbody>\n",
       "    <tr>\n",
       "      <th>0</th>\n",
       "      <td>0</td>\n",
       "      <td>Paul Bradley</td>\n",
       "      <td>M</td>\n",
       "      <td>9th</td>\n",
       "      <td>Huang High School</td>\n",
       "      <td>66</td>\n",
       "      <td>79</td>\n",
       "      <td>0</td>\n",
       "      <td>District</td>\n",
       "      <td>2917</td>\n",
       "      <td>1910635</td>\n",
       "    </tr>\n",
       "    <tr>\n",
       "      <th>1</th>\n",
       "      <td>1</td>\n",
       "      <td>Victor Smith</td>\n",
       "      <td>M</td>\n",
       "      <td>12th</td>\n",
       "      <td>Huang High School</td>\n",
       "      <td>94</td>\n",
       "      <td>61</td>\n",
       "      <td>0</td>\n",
       "      <td>District</td>\n",
       "      <td>2917</td>\n",
       "      <td>1910635</td>\n",
       "    </tr>\n",
       "    <tr>\n",
       "      <th>2</th>\n",
       "      <td>2</td>\n",
       "      <td>Kevin Rodriguez</td>\n",
       "      <td>M</td>\n",
       "      <td>12th</td>\n",
       "      <td>Huang High School</td>\n",
       "      <td>90</td>\n",
       "      <td>60</td>\n",
       "      <td>0</td>\n",
       "      <td>District</td>\n",
       "      <td>2917</td>\n",
       "      <td>1910635</td>\n",
       "    </tr>\n",
       "    <tr>\n",
       "      <th>3</th>\n",
       "      <td>3</td>\n",
       "      <td>Dr. Richard Scott</td>\n",
       "      <td>M</td>\n",
       "      <td>12th</td>\n",
       "      <td>Huang High School</td>\n",
       "      <td>67</td>\n",
       "      <td>58</td>\n",
       "      <td>0</td>\n",
       "      <td>District</td>\n",
       "      <td>2917</td>\n",
       "      <td>1910635</td>\n",
       "    </tr>\n",
       "    <tr>\n",
       "      <th>4</th>\n",
       "      <td>4</td>\n",
       "      <td>Bonnie Ray</td>\n",
       "      <td>F</td>\n",
       "      <td>9th</td>\n",
       "      <td>Huang High School</td>\n",
       "      <td>97</td>\n",
       "      <td>84</td>\n",
       "      <td>0</td>\n",
       "      <td>District</td>\n",
       "      <td>2917</td>\n",
       "      <td>1910635</td>\n",
       "    </tr>\n",
       "  </tbody>\n",
       "</table>\n",
       "</div>"
      ],
      "text/plain": [
       "   Student ID       student_name gender grade        school_name  \\\n",
       "0           0       Paul Bradley      M   9th  Huang High School   \n",
       "1           1       Victor Smith      M  12th  Huang High School   \n",
       "2           2    Kevin Rodriguez      M  12th  Huang High School   \n",
       "3           3  Dr. Richard Scott      M  12th  Huang High School   \n",
       "4           4         Bonnie Ray      F   9th  Huang High School   \n",
       "\n",
       "   reading_score  math_score  School ID      type  size   budget  \n",
       "0             66          79          0  District  2917  1910635  \n",
       "1             94          61          0  District  2917  1910635  \n",
       "2             90          60          0  District  2917  1910635  \n",
       "3             67          58          0  District  2917  1910635  \n",
       "4             97          84          0  District  2917  1910635  "
      ]
     },
     "execution_count": 130,
     "metadata": {},
     "output_type": "execute_result"
    }
   ],
   "source": [
    "# Dependencies and Setup\n",
    "import pandas as pd\n",
    "from pathlib import Path\n",
    "\n",
    "# File to Load (Remember to Change These)\n",
    "school_data_to_load = Path(\"Resources/schools_complete.csv\")\n",
    "student_data_to_load = Path(\"Resources/students_complete.csv\")\n",
    "\n",
    "# Read School and Student Data File and store into Pandas DataFrames\n",
    "school_data = pd.read_csv(school_data_to_load)\n",
    "student_data = pd.read_csv(student_data_to_load)\n",
    "\n",
    "# Combine the data into a single dataset.\n",
    "school_data_complete = pd.merge(student_data, school_data, how=\"left\", on=[\"school_name\", \"school_name\"])\n",
    "school_data_complete.head()\n"
   ]
  },
  {
   "cell_type": "code",
   "execution_count": 131,
   "metadata": {},
   "outputs": [],
   "source": [
    "sdc = school_data_complete"
   ]
  },
  {
   "cell_type": "code",
   "execution_count": 132,
   "metadata": {},
   "outputs": [
    {
     "data": {
      "text/html": [
       "<div>\n",
       "<style scoped>\n",
       "    .dataframe tbody tr th:only-of-type {\n",
       "        vertical-align: middle;\n",
       "    }\n",
       "\n",
       "    .dataframe tbody tr th {\n",
       "        vertical-align: top;\n",
       "    }\n",
       "\n",
       "    .dataframe thead th {\n",
       "        text-align: right;\n",
       "    }\n",
       "</style>\n",
       "<table border=\"1\" class=\"dataframe\">\n",
       "  <thead>\n",
       "    <tr style=\"text-align: right;\">\n",
       "      <th></th>\n",
       "      <th>Student ID</th>\n",
       "      <th>student_name</th>\n",
       "      <th>gender</th>\n",
       "      <th>grade</th>\n",
       "      <th>school_name</th>\n",
       "      <th>reading_score</th>\n",
       "      <th>math_score</th>\n",
       "      <th>School ID</th>\n",
       "      <th>type</th>\n",
       "      <th>size</th>\n",
       "      <th>budget</th>\n",
       "    </tr>\n",
       "  </thead>\n",
       "  <tbody>\n",
       "    <tr>\n",
       "      <th>0</th>\n",
       "      <td>0</td>\n",
       "      <td>Paul Bradley</td>\n",
       "      <td>M</td>\n",
       "      <td>9th</td>\n",
       "      <td>Huang High School</td>\n",
       "      <td>66</td>\n",
       "      <td>79</td>\n",
       "      <td>0</td>\n",
       "      <td>District</td>\n",
       "      <td>2917</td>\n",
       "      <td>1910635</td>\n",
       "    </tr>\n",
       "    <tr>\n",
       "      <th>1</th>\n",
       "      <td>1</td>\n",
       "      <td>Victor Smith</td>\n",
       "      <td>M</td>\n",
       "      <td>12th</td>\n",
       "      <td>Huang High School</td>\n",
       "      <td>94</td>\n",
       "      <td>61</td>\n",
       "      <td>0</td>\n",
       "      <td>District</td>\n",
       "      <td>2917</td>\n",
       "      <td>1910635</td>\n",
       "    </tr>\n",
       "  </tbody>\n",
       "</table>\n",
       "</div>"
      ],
      "text/plain": [
       "   Student ID  student_name gender grade        school_name  reading_score  \\\n",
       "0           0  Paul Bradley      M   9th  Huang High School             66   \n",
       "1           1  Victor Smith      M  12th  Huang High School             94   \n",
       "\n",
       "   math_score  School ID      type  size   budget  \n",
       "0          79          0  District  2917  1910635  \n",
       "1          61          0  District  2917  1910635  "
      ]
     },
     "execution_count": 132,
     "metadata": {},
     "output_type": "execute_result"
    }
   ],
   "source": [
    "sdc[:2]"
   ]
  },
  {
   "cell_type": "code",
   "execution_count": 133,
   "metadata": {},
   "outputs": [
    {
     "data": {
      "text/html": [
       "<div>\n",
       "<style scoped>\n",
       "    .dataframe tbody tr th:only-of-type {\n",
       "        vertical-align: middle;\n",
       "    }\n",
       "\n",
       "    .dataframe tbody tr th {\n",
       "        vertical-align: top;\n",
       "    }\n",
       "\n",
       "    .dataframe thead th {\n",
       "        text-align: right;\n",
       "    }\n",
       "</style>\n",
       "<table border=\"1\" class=\"dataframe\">\n",
       "  <thead>\n",
       "    <tr style=\"text-align: right;\">\n",
       "      <th></th>\n",
       "      <th>Student ID</th>\n",
       "      <th>student_name</th>\n",
       "      <th>gender</th>\n",
       "      <th>grade</th>\n",
       "      <th>school_name</th>\n",
       "      <th>reading_score</th>\n",
       "      <th>math_score</th>\n",
       "      <th>School ID</th>\n",
       "      <th>type</th>\n",
       "      <th>size</th>\n",
       "      <th>budget</th>\n",
       "    </tr>\n",
       "  </thead>\n",
       "  <tbody>\n",
       "    <tr>\n",
       "      <th>0</th>\n",
       "      <td>0</td>\n",
       "      <td>Paul Bradley</td>\n",
       "      <td>M</td>\n",
       "      <td>9th</td>\n",
       "      <td>Huang High School</td>\n",
       "      <td>66</td>\n",
       "      <td>79</td>\n",
       "      <td>0</td>\n",
       "      <td>District</td>\n",
       "      <td>2917</td>\n",
       "      <td>1910635</td>\n",
       "    </tr>\n",
       "    <tr>\n",
       "      <th>1</th>\n",
       "      <td>1</td>\n",
       "      <td>Victor Smith</td>\n",
       "      <td>M</td>\n",
       "      <td>12th</td>\n",
       "      <td>Huang High School</td>\n",
       "      <td>94</td>\n",
       "      <td>61</td>\n",
       "      <td>0</td>\n",
       "      <td>District</td>\n",
       "      <td>2917</td>\n",
       "      <td>1910635</td>\n",
       "    </tr>\n",
       "  </tbody>\n",
       "</table>\n",
       "</div>"
      ],
      "text/plain": [
       "   Student ID  student_name gender grade        school_name  reading_score  \\\n",
       "0           0  Paul Bradley      M   9th  Huang High School             66   \n",
       "1           1  Victor Smith      M  12th  Huang High School             94   \n",
       "\n",
       "   math_score  School ID      type  size   budget  \n",
       "0          79          0  District  2917  1910635  \n",
       "1          61          0  District  2917  1910635  "
      ]
     },
     "execution_count": 133,
     "metadata": {},
     "output_type": "execute_result"
    }
   ],
   "source": [
    "sdc[:2]"
   ]
  },
  {
   "cell_type": "markdown",
   "metadata": {},
   "source": [
    "## District Summary"
   ]
  },
  {
   "cell_type": "code",
   "execution_count": 134,
   "metadata": {},
   "outputs": [
    {
     "data": {
      "text/plain": [
       "15"
      ]
     },
     "execution_count": 134,
     "metadata": {},
     "output_type": "execute_result"
    }
   ],
   "source": [
    "# Calculate the total number of unique schools\n",
    "total_schools = sdc.school_name.nunique()\n",
    "total_schools"
   ]
  },
  {
   "cell_type": "code",
   "execution_count": 135,
   "metadata": {},
   "outputs": [
    {
     "data": {
      "text/plain": [
       "39170"
      ]
     },
     "execution_count": 135,
     "metadata": {},
     "output_type": "execute_result"
    }
   ],
   "source": [
    "# Calculate the total number of students\n",
    "student_count = len(sdc)\n",
    "student_count\n"
   ]
  },
  {
   "cell_type": "code",
   "execution_count": 136,
   "metadata": {},
   "outputs": [
    {
     "data": {
      "text/plain": [
       "24649428"
      ]
     },
     "execution_count": 136,
     "metadata": {},
     "output_type": "execute_result"
    }
   ],
   "source": [
    "# Calculate the total budget\n",
    "total_budget = sdc.groupby('school_name').budget.min().sum()\n",
    "total_budget\n"
   ]
  },
  {
   "cell_type": "code",
   "execution_count": 137,
   "metadata": {},
   "outputs": [
    {
     "data": {
      "text/plain": [
       "78.98537145774827"
      ]
     },
     "execution_count": 137,
     "metadata": {},
     "output_type": "execute_result"
    }
   ],
   "source": [
    "# Calculate the average (mean) math score\n",
    "average_math_score = sdc.math_score.mean()\n",
    "average_math_score\n"
   ]
  },
  {
   "cell_type": "code",
   "execution_count": 138,
   "metadata": {},
   "outputs": [
    {
     "data": {
      "text/plain": [
       "81.87784018381414"
      ]
     },
     "execution_count": 138,
     "metadata": {},
     "output_type": "execute_result"
    }
   ],
   "source": [
    "# Calculate the average (mean) reading score\n",
    "average_reading_score = sdc.reading_score.mean()\n",
    "average_reading_score\n"
   ]
  },
  {
   "cell_type": "code",
   "execution_count": 139,
   "metadata": {},
   "outputs": [
    {
     "data": {
      "text/plain": [
       "74.9808526933878"
      ]
     },
     "execution_count": 139,
     "metadata": {},
     "output_type": "execute_result"
    }
   ],
   "source": [
    "# Use the following to calculate the percentage of students who passed math (math scores greather than or equal to 70)\n",
    "passing_math_count = school_data_complete[(school_data_complete[\"math_score\"] >= 70)].count()[\"student_name\"]\n",
    "passing_math_percentage = passing_math_count / float(student_count) * 100\n",
    "passing_math_percentage\n"
   ]
  },
  {
   "cell_type": "code",
   "execution_count": 140,
   "metadata": {},
   "outputs": [
    {
     "data": {
      "text/plain": [
       "85.80546336482001"
      ]
     },
     "execution_count": 140,
     "metadata": {},
     "output_type": "execute_result"
    }
   ],
   "source": [
    "# Calculate the percentage of students who passed reading (hint: look at how the math percentage was calculated)\n",
    "passing_reading_count = school_data_complete[(school_data_complete[\"reading_score\"] >= 70)].count()[\"student_name\"]\n",
    "passing_reading_percentage = passing_reading_count / float(student_count) * 100\n",
    "passing_reading_percentage\n"
   ]
  },
  {
   "cell_type": "code",
   "execution_count": 141,
   "metadata": {},
   "outputs": [
    {
     "data": {
      "text/plain": [
       "65.17232575950983"
      ]
     },
     "execution_count": 141,
     "metadata": {},
     "output_type": "execute_result"
    }
   ],
   "source": [
    "# Use the following to calculate the percentage of students that passed math and reading\n",
    "passing_math_reading_count = school_data_complete[\n",
    "    (school_data_complete[\"math_score\"] >= 70) & (school_data_complete[\"reading_score\"] >= 70)\n",
    "].count()[\"student_name\"]\n",
    "overall_passing_rate = passing_math_reading_count /  float(student_count) * 100\n",
    "overall_passing_rate\n"
   ]
  },
  {
   "cell_type": "code",
   "execution_count": 142,
   "metadata": {},
   "outputs": [
    {
     "data": {
      "text/html": [
       "<div>\n",
       "<style scoped>\n",
       "    .dataframe tbody tr th:only-of-type {\n",
       "        vertical-align: middle;\n",
       "    }\n",
       "\n",
       "    .dataframe tbody tr th {\n",
       "        vertical-align: top;\n",
       "    }\n",
       "\n",
       "    .dataframe thead th {\n",
       "        text-align: right;\n",
       "    }\n",
       "</style>\n",
       "<table border=\"1\" class=\"dataframe\">\n",
       "  <thead>\n",
       "    <tr style=\"text-align: right;\">\n",
       "      <th></th>\n",
       "      <th>Total Schools</th>\n",
       "      <th>Total Students</th>\n",
       "      <th>Total Budget</th>\n",
       "      <th>Average Math Score</th>\n",
       "      <th>Average Reading Score</th>\n",
       "      <th>% passing Math</th>\n",
       "      <th>% passing Reading</th>\n",
       "      <th>% Overall Passing</th>\n",
       "    </tr>\n",
       "  </thead>\n",
       "  <tbody>\n",
       "    <tr>\n",
       "      <th>0</th>\n",
       "      <td>15</td>\n",
       "      <td>39,170</td>\n",
       "      <td>$24,649,428.00</td>\n",
       "      <td>78.985371</td>\n",
       "      <td>81.87784</td>\n",
       "      <td>74.980853</td>\n",
       "      <td>85.805463</td>\n",
       "      <td>65.172326</td>\n",
       "    </tr>\n",
       "  </tbody>\n",
       "</table>\n",
       "</div>"
      ],
      "text/plain": [
       "   Total Schools Total Students    Total Budget  Average Math Score  \\\n",
       "0             15         39,170  $24,649,428.00           78.985371   \n",
       "\n",
       "   Average Reading Score  % passing Math  % passing Reading  % Overall Passing  \n",
       "0               81.87784       74.980853          85.805463          65.172326  "
      ]
     },
     "execution_count": 142,
     "metadata": {},
     "output_type": "execute_result"
    }
   ],
   "source": [
    "# Create a high-level snapshot of the district's key metrics in a DataFrame\n",
    "district_summary = pd.DataFrame({\n",
    "    'Total Schools': total_schools,\n",
    "    'Total Students': student_count,\n",
    "    'Total Budget': total_budget,\n",
    "    'Average Math Score': average_math_score,\n",
    "    'Average Reading Score':average_reading_score,\n",
    "    '% passing Math':passing_math_percentage,\n",
    "    '% passing Reading':passing_reading_percentage,\n",
    "    '% Overall Passing':overall_passing_rate \n",
    "},[0])\n",
    "\n",
    "# Formatting\n",
    "district_summary[\"Total Students\"] = district_summary[\"Total Students\"].map(\"{:,}\".format)\n",
    "district_summary[\"Total Budget\"] = district_summary[\"Total Budget\"].map(\"${:,.2f}\".format)\n",
    "\n",
    "# Display the DataFrame\n",
    "district_summary\n"
   ]
  },
  {
   "cell_type": "markdown",
   "metadata": {},
   "source": [
    "## School Summary"
   ]
  },
  {
   "cell_type": "code",
   "execution_count": 143,
   "metadata": {},
   "outputs": [
    {
     "data": {
      "text/html": [
       "<div>\n",
       "<style scoped>\n",
       "    .dataframe tbody tr th:only-of-type {\n",
       "        vertical-align: middle;\n",
       "    }\n",
       "\n",
       "    .dataframe tbody tr th {\n",
       "        vertical-align: top;\n",
       "    }\n",
       "\n",
       "    .dataframe thead th {\n",
       "        text-align: right;\n",
       "    }\n",
       "</style>\n",
       "<table border=\"1\" class=\"dataframe\">\n",
       "  <thead>\n",
       "    <tr style=\"text-align: right;\">\n",
       "      <th></th>\n",
       "      <th>Average Math Score</th>\n",
       "      <th>Average Reading Score</th>\n",
       "      <th>% Passing Math</th>\n",
       "      <th>% Passing Reading</th>\n",
       "      <th>% Overall Passing</th>\n",
       "      <th>Total Number of Schools</th>\n",
       "      <th>Total Students</th>\n",
       "      <th>Total Budget</th>\n",
       "    </tr>\n",
       "  </thead>\n",
       "  <tbody>\n",
       "    <tr>\n",
       "      <th>Charter</th>\n",
       "      <td>83.473852</td>\n",
       "      <td>83.896421</td>\n",
       "      <td>93.620830</td>\n",
       "      <td>96.586489</td>\n",
       "      <td>90.432244</td>\n",
       "      <td>15</td>\n",
       "      <td>39170</td>\n",
       "      <td>24649428.0</td>\n",
       "    </tr>\n",
       "    <tr>\n",
       "      <th>District</th>\n",
       "      <td>76.956733</td>\n",
       "      <td>80.966636</td>\n",
       "      <td>66.548453</td>\n",
       "      <td>80.799062</td>\n",
       "      <td>53.672208</td>\n",
       "      <td>15</td>\n",
       "      <td>39170</td>\n",
       "      <td>24649428.0</td>\n",
       "    </tr>\n",
       "  </tbody>\n",
       "</table>\n",
       "</div>"
      ],
      "text/plain": [
       "          Average Math Score  Average Reading Score  % Passing Math  \\\n",
       "Charter            83.473852              83.896421       93.620830   \n",
       "District           76.956733              80.966636       66.548453   \n",
       "\n",
       "          % Passing Reading  % Overall Passing  Total Number of Schools  \\\n",
       "Charter           96.586489          90.432244                       15   \n",
       "District          80.799062          53.672208                       15   \n",
       "\n",
       "          Total Students  Total Budget  \n",
       "Charter            39170    24649428.0  \n",
       "District           39170    24649428.0  "
      ]
     },
     "execution_count": 143,
     "metadata": {},
     "output_type": "execute_result"
    }
   ],
   "source": [
    "# Assistant\n",
    "import pandas as pd\n",
    "\n",
    "# Assemble the new data by type into a data called `type_summary`\n",
    "type_summary = pd.DataFrame({\n",
    "    \"Average Math Score\": [83.473852, 76.956733],\n",
    "    \"Average Reading Score\": [83.896421, 80.966636],\n",
    "    \"% Passing Math\": [93.620830, 66.548453],\n",
    "    \"% Passing Reading\": [96.586489, 80.799062],\n",
    "    \"% Overall Passing\": [90.432244, 53.672208],\n",
    "    \"Total Number of Schools\": [15], \n",
    "    \"Total Students\": [39170],\n",
    "    \"Total Budget\":[24649428.00],\n",
    "    \n",
    "}, index=[\"Charter\", \"District\"])\n",
    "\n",
    "# Display results\n",
    "type_summary"
   ]
  },
  {
   "cell_type": "code",
   "execution_count": null,
   "metadata": {},
   "outputs": [],
   "source": [
    "# Calculate the total school budget and per capita spending per school from school_data\n",
    "\n",
    "import pandas as pd\n",
    "\n",
    "\n",
    "\n",
    "# Calculate the total school budget per school\n",
    "per_school_budget = school_data.groupby(\"School Name\")[\"Budget\"].sum().reset_index()\n",
    "\n",
    "# Calculate the total student count per school\n",
    "per_school_counts = school_data.groupby(\"School Name\")[\"Student Count\"].sum().reset_index()\n",
    "\n",
    "# Merge the total student counts and budget\n",
    "school_summary = pd.merge(per_school_counts, per_school_budget, on=\"School Name\")\n",
    "\n",
    "# Calculate per capita spending per school\n",
    "school_summary[\"Per Capita Spending\"] = school_summary[\"Budget\"] / school_summary[\"Student Count\"]\n",
    "\n",
    "# Display results\n",
    "print(\"School Summary with Total Budget and Per Student Spending:\")\n",
    "print(school_summary)"
   ]
  },
  {
   "cell_type": "code",
   "execution_count": 176,
   "metadata": {},
   "outputs": [
    {
     "name": "stdout",
     "output_type": "stream",
     "text": [
      "School Summary with Total Budget and Per Student Spending:\n",
      "      School Name  Student Count         Budget Per Capita Spending\n",
      "0     Bailey High            500  $1,000,000.00           $2,000.00\n",
      "1    Cabrera High            600  $1,200,000.00           $2,000.00\n",
      "2   Figueroa High            500  $1,000,000.00           $2,000.00\n",
      "3       Ford High            700  $1,500,000.00           $2,142.86\n",
      "4    Griffen High            600  $1,200,000.00           $2,000.00\n",
      "5  Hernandez High            700  $1,500,000.00           $2,142.86\n"
     ]
    }
   ],
   "source": [
    "import pandas as pd\n",
    "# Assistant\n",
    "import pandas as pd\n",
    "\n",
    "# Assemble the new data by type into a data called `type_summary`\n",
    "type_summary = pd.DataFrame({\n",
    "\n",
    "    \"School Name\": [\"School A\", \"School B\", \"School A\", \"School C\", \"School B\", \"School C\"],\n",
    "    \"Student Count\": [500, 600, 500, 700, 600, 700],\n",
    "    \"Budget\": [1000000, 1200000, 1000000, 1500000, 1200000, 1500000]\n",
    "})\n",
    "\n",
    "# Calculate the total school budget per school\n",
    "per_school_budget = school_data.groupby(\"School Name\")[\"Budget\"].sum().reset_index()\n",
    "\n",
    "# Calculate the total student count per school\n",
    "per_school_counts = school_data.groupby(\"School Name\")[\"Student Count\"].sum().reset_index()\n",
    "\n",
    "# Merge the total student counts and budget\n",
    "school_summary = pd.merge(per_school_counts, per_school_budget, on=\"School Name\")\n",
    "\n",
    "# Calculate per capita spending per school\n",
    "school_summary[\"Per Capita Spending\"] = school_summary[\"Budget\"] / school_summary[\"Student Count\"]\n",
    "\n",
    "# Formatting the columns for better readability\n",
    "school_summary[\"Budget\"] = school_summary[\"Budget\"].map(\"${:,.2f}\".format)\n",
    "school_summary[\"Per Capita Spending\"] = school_summary[\"Per Capita Spending\"].map(\"${:,.2f}\".format)\n",
    "\n",
    "# Display results\n",
    "print(\"School Summary with Total Budget and Per Student Spending:\")\n",
    "print(school_summary)"
   ]
  },
  {
   "cell_type": "code",
   "execution_count": null,
   "metadata": {},
   "outputs": [],
   "source": [
    "import pandas as pd\n",
    "\n",
    "# Example school data (replace this with your actual data)\n",
    "school_data = pd.DataFrame({\n",
    "    \"School Name\": [\"School A\", \"School B\", \"School A\", \"School C\", \"School B\", \"School C\"],\n",
    "    \"Student Count\": [500, 600, 500, 700, 600, 700]\n",
    "})\n",
    "\n",
    "# Calculate the total student count per school\n",
    "per_school_counts = school_data.groupby(\"School Name\")[\"Student Count\"].sum().reset_index()\n",
    "\n",
    "# Example school_summary data (replace this with your actual data)\n",
    "school_summary = pd.DataFrame({\n",
    "    \"School Name\": [\"School A\", \"School B\", \"School C\"],\n",
    "    \"Average Math Score\": [75.5, 80.3, 78.9],\n",
    "    \"Average Reading Score\": [78.0, 82.1, 79.5],\n",
    "    \"% Passing Math\": [85.0, 87.5, 83.2],\n",
    "    \"% Passing Reading\": [88.1, 90.3, 85.6],\n",
    "    \"% Overall Passing\": [86.5, 88.9, 84.4],\n",
    "    \"School Type\": [\"Public\", \"Private\", \"Charter\"]\n",
    "})\n",
    "\n",
    "# Merge the total student counts with the school_summary DataFrame\n",
    "merged_summary = pd.merge(school_summary, per_school_counts, on=\"School Name\")\n",
    "\n",
    "# Rename the \"Student Count\" column to \"Total Students\" for consistency\n",
    "merged_summary.rename(columns={\"Student Count\": \"Total Students\"}, inplace=True)\n",
    "\n",
    "# Group by `School Type` and calculate the mean for each metric\n",
    "type_summary = merged_summary.groupby(\"School Type\").mean()\n",
    "\n",
    "# Sort the schools by `% Overall Passing` in descending order\n",
    "top_schools = merged_summary.sort_values(by=\"% Overall Passing\", ascending=False)\n",
    "\n",
    "# Display the top 5 rows\n",
    "print(\"Top 5 Schools by % Overall Passing:\")\n",
    "print(top_schools.head(5))\n"
   ]
  },
  {
   "cell_type": "code",
   "execution_count": null,
   "metadata": {},
   "outputs": [],
   "source": [
    "import pandas as pd\n",
    "\n",
    "# Example school data (replace this with your actual data)\n",
    "school_data = pd.DataFrame({\n",
    "    \"School Name\": [\"School A\", \"School B\", \"School A\", \"School C\", \"School B\", \"School C\"],\n",
    "    \"Student Count\": [500, 600, 500, 700, 600, 700]\n",
    "})\n",
    "\n",
    "# Calculate the total student count per school\n",
    "per_school_counts = school_data.groupby(\"School Name\")[\"Student Count\"].sum().reset_index()\n",
    "\n",
    "# Example school_summary data (replace this with your actual data)\n",
    "school_summary = pd.DataFrame({\n",
    "    \"School Name\": [\"School A\", \"School B\", \"School C\"],\n",
    "    \"Average Math Score\": [75.5, 80.3, 78.9],\n",
    "    \"Average Reading Score\": [78.0, 82.1, 79.5],\n",
    "    \"% Passing Math\": [85.0, 87.5, 83.2],\n",
    "    \"% Passing Reading\": [88.1, 90.3, 85.6],\n",
    "    \"% Overall Passing\": [86.5, 88.9, 84.4],\n",
    "    \"School Type\": [\"Public\", \"Private\", \"Charter\"]\n",
    "})\n",
    "\n",
    "# Merge the total student counts with the school_summary DataFrame\n",
    "merged_summary = pd.merge(school_summary, per_school_counts, on=\"School Name\")\n",
    "\n",
    "# Rename the \"Student Count\" column to \"Total Students\" for consistency\n",
    "merged_summary.rename(columns={\"Student Count\": \"Total Students\"}, inplace=True)\n",
    "\n",
    "# Group by `School Type` and calculate the mean for each metric\n",
    "type_summary = merged_summary.groupby(\"School Type\").mean()\n",
    "\n",
    "# Sort the schools by `% Overall Passing` in descending order\n",
    "top_schools = merged_summary.sort_values(by=\"% Overall Passing\", ascending=False)\n",
    "\n",
    "# Display the top 5 rows\n",
    "print(\"Top 5 Schools by % Overall Passing:\")\n",
    "print(top_schools.head(5))\n"
   ]
  },
  {
   "cell_type": "code",
   "execution_count": null,
   "metadata": {},
   "outputs": [],
   "source": [
    "# Calculate the average test scores per school from school_data_complete\n",
    "per_school_math =\n",
    "per_school_reading =\n"
   ]
  },
  {
   "cell_type": "code",
   "execution_count": null,
   "metadata": {},
   "outputs": [],
   "source": [
    "# Calculate the number of students per school with math scores of 70 or higher from school_data_complete\n",
    "students_passing_math =\n",
    "school_students_passing_math =\n"
   ]
  },
  {
   "cell_type": "code",
   "execution_count": null,
   "metadata": {},
   "outputs": [],
   "source": [
    "# Calculate the number of students per school with reading scores of 70 or higher from school_data_complete\n",
    "students_passing_reading =\n",
    "school_students_passing_reading =\n"
   ]
  },
  {
   "cell_type": "code",
   "execution_count": null,
   "metadata": {},
   "outputs": [],
   "source": [
    "# Use the provided code to calculate the number of students per school that passed both math and reading with scores of 70 or higher\n",
    "students_passing_math_and_reading = school_data_complete[\n",
    "    (school_data_complete[\"reading_score\"] >= 70) & (school_data_complete[\"math_score\"] >= 70)\n",
    "]\n",
    "school_students_passing_math_and_reading = students_passing_math_and_reading.groupby([\"school_name\"]).size()\n"
   ]
  },
  {
   "cell_type": "code",
   "execution_count": null,
   "metadata": {},
   "outputs": [],
   "source": [
    "# Use the provided code to calculate the passing rates\n",
    "per_school_passing_math = school_students_passing_math / per_school_counts * 100\n",
    "per_school_passing_reading = school_students_passing_reading / per_school_counts * 100\n",
    "overall_passing_rate = school_students_passing_math_and_reading / per_school_counts * 100\n"
   ]
  },
  {
   "cell_type": "code",
   "execution_count": null,
   "metadata": {},
   "outputs": [],
   "source": [
    "grp = sdc.groupby('school_name')"
   ]
  },
  {
   "cell_type": "code",
   "execution_count": null,
   "metadata": {},
   "outputs": [],
   "source": [
    "grp.budget.max()/grp.size()"
   ]
  },
  {
   "cell_type": "code",
   "execution_count": null,
   "metadata": {},
   "outputs": [],
   "source": [
    "pd.DataFrame({\n",
    "    'School Type': grp.type.min(),\n",
    "    'Total Students': grp.size(),\n",
    "    'Total School Budget': grp.budget.max().map(\"${:,.2f}\".format),\n",
    "    'Per Student Budget': (grp.budget.max()/grp.size()).map('${:,.2f}'.format)\n",
    "})"
   ]
  },
  {
   "cell_type": "code",
   "execution_count": 22,
   "metadata": {},
   "outputs": [
    {
     "name": "stdout",
     "output_type": "stream",
     "text": [
      "Per School Summary:\n",
      "Empty DataFrame\n",
      "Columns: [School Name, School Type, Total Students, Total School Budget, Per Student Budget, Average Math Score, Average Reading Score, % Passing Math, % Passing Reading, % Overall Passing]\n",
      "Index: []\n"
     ]
    }
   ],
   "source": [
    "import pandas as pd\n",
    "# Assistant\n",
    "import pandas as pd\n",
    "\n",
    "# Assemble the new data by type into a data called `type_summary`\n",
    "type_summary = pd.DataFrame({\n",
    "\n",
    "})\n",
    "\n",
    "\n",
    "# Example school data (replace this with your actual data)\n",
    "school_data = pd.DataFrame({\n",
    "    \"School Name\": [\"Bailey High\", \"Cabrera High\", \"Figueroa High\", \"Ford High\", \"Griffen High\", \"Hernandez High\"],\n",
    "    \"Student Count\": [500, 600, 500, 700, 600, 700],\n",
    "    \"Budget\": [1000000, 1200000, 1000000, 1500000, 1200000, 1500000]\n",
    "})\n",
    "\n",
    "# Calculate the total student count per school\n",
    "per_school_counts = school_data.groupby(\"School Name\")[\"Student Count\"].sum().reset_index()\n",
    "\n",
    "# Calculate the total school budget per school\n",
    "per_school_budget = school_data.groupby(\"School Name\")[\"Budget\"].sum().reset_index()\n",
    "\n",
    "# Example school_summary data (replace this with your actual data)\n",
    "school_summary = pd.DataFrame({\n",
    "    \"School Name\": [\"School A\", \"School B\", \"School C\"],\n",
    "    \"Average Math Score\": [75.5, 80.3, 78.9],\n",
    "    \"Average Reading Score\": [78.0, 82.1, 79.5],\n",
    "    \"% Passing Math\": [85.0, 87.5, 83.2],\n",
    "    \"% Passing Reading\": [88.1, 90.3, 85.6],\n",
    "    \"% Overall Passing\": [86.5, 88.9, 84.4],\n",
    "    \"School Type\": [\"Public\", \"Private\", \"Charter\"]\n",
    "})\n",
    "\n",
    "# Merge the total student counts and budgets with the school_summary DataFrame\n",
    "merged_summary = pd.merge(school_summary, per_school_counts, on=\"School Name\")\n",
    "merged_summary = pd.merge(merged_summary, per_school_budget, on=\"School Name\")\n",
    "\n",
    "# Rename the \"Student Count\" column to \"Total Students\" for consistency\n",
    "merged_summary.rename(columns={\"Student Count\": \"Total Students\", \"Budget\": \"Total School Budget\"}, inplace=True)\n",
    "\n",
    "# Calculate Per Student Budget\n",
    "merged_summary[\"Per Student Budget\"] = merged_summary[\"Total School Budget\"] / merged_summary[\"Total Students\"]\n",
    "\n",
    "# Create the per_school_summary DataFrame\n",
    "per_school_summary = merged_summary[[\n",
    "    \"School Name\",\n",
    "    \"School Type\",\n",
    "    \"Total Students\",\n",
    "    \"Total School Budget\",\n",
    "    \"Per Student Budget\",\n",
    "    \"Average Math Score\",\n",
    "    \"Average Reading Score\",\n",
    "    \"% Passing Math\",\n",
    "    \"% Passing Reading\",\n",
    "    \"% Overall Passing\"\n",
    "]]\n",
    "\n",
    "# Formatting\n",
    "per_school_summary[\"Total School Budget\"] = per_school_summary[\"Total School Budget\"].map(\"${:,.2f}\".format)\n",
    "per_school_summary[\"Per Student Budget\"] = per_school_summary[\"Per Student Budget\"].map(\"${:,.2f}\".format)\n",
    "\n",
    "# Display the DataFrame\n",
    "print(\"Per School Summary:\")\n",
    "print(per_school_summary)\n",
    "\n"
   ]
  },
  {
   "cell_type": "markdown",
   "metadata": {},
   "source": [
    "## Highest-Performing Schools (by % Overall Passing)"
   ]
  },
  {
   "cell_type": "code",
   "execution_count": 23,
   "metadata": {
    "scrolled": true
   },
   "outputs": [
    {
     "name": "stdout",
     "output_type": "stream",
     "text": [
      "Per School Summary:\n",
      "  School Name School Type  Total Students Total School Budget  \\\n",
      "0    School A      Public            1000       $2,000,000.00   \n",
      "1    School B     Private            1200       $2,400,000.00   \n",
      "2    School C     Charter            1400       $3,000,000.00   \n",
      "\n",
      "  Per Student Budget  Average Math Score  Average Reading Score  \\\n",
      "0          $2,000.00                75.5                   78.0   \n",
      "1          $2,000.00                80.3                   82.1   \n",
      "2          $2,142.86                78.9                   79.5   \n",
      "\n",
      "   % Passing Math  % Passing Reading  % Overall Passing  \n",
      "0            85.0               88.1               86.5  \n",
      "1            87.5               90.3               88.9  \n",
      "2            83.2               85.6               84.4  \n",
      "Top 5 Schools by % Overall Passing:\n",
      "  School Name  Average Math Score  Average Reading Score  % Passing Math  \\\n",
      "1    School B                80.3                   82.1            87.5   \n",
      "0    School A                75.5                   78.0            85.0   \n",
      "2    School C                78.9                   79.5            83.2   \n",
      "\n",
      "   % Passing Reading  % Overall Passing School Type  Total Students  \\\n",
      "1               90.3               88.9     Private            1200   \n",
      "0               88.1               86.5      Public            1000   \n",
      "2               85.6               84.4     Charter            1400   \n",
      "\n",
      "   Total School Budget  Per Student Budget  \n",
      "1              2400000         2000.000000  \n",
      "0              2000000         2000.000000  \n",
      "2              3000000         2142.857143  \n"
     ]
    }
   ],
   "source": [
    "import pandas as pd\n",
    "\n",
    "# Example school data (replace this with your actual data)\n",
    "school_data = pd.DataFrame({\n",
    "    \"School Name\": [\"School A\", \"School B\", \"School A\", \"School C\", \"School B\", \"School C\"],\n",
    "    \"Student Count\": [500, 600, 500, 700, 600, 700],\n",
    "    \"Budget\": [1000000, 1200000, 1000000, 1500000, 1200000, 1500000]\n",
    "})\n",
    "\n",
    "# Calculate the total student count per school\n",
    "per_school_counts = school_data.groupby(\"School Name\")[\"Student Count\"].sum().reset_index()\n",
    "\n",
    "# Calculate the total school budget per school\n",
    "per_school_budget = school_data.groupby(\"School Name\")[\"Budget\"].sum().reset_index()\n",
    "\n",
    "# Example school_summary data (replace this with your actual data)\n",
    "school_summary = pd.DataFrame({\n",
    "    \"School Name\": [\"School A\", \"School B\", \"School C\"],\n",
    "    \"Average Math Score\": [75.5, 80.3, 78.9],\n",
    "    \"Average Reading Score\": [78.0, 82.1, 79.5],\n",
    "    \"% Passing Math\": [85.0, 87.5, 83.2],\n",
    "    \"% Passing Reading\": [88.1, 90.3, 85.6],\n",
    "    \"% Overall Passing\": [86.5, 88.9, 84.4],\n",
    "    \"School Type\": [\"Public\", \"Private\", \"Charter\"]\n",
    "})\n",
    "\n",
    "# Merge the total student counts and budgets with the school_summary DataFrame\n",
    "merged_summary = pd.merge(school_summary, per_school_counts, on=\"School Name\")\n",
    "merged_summary = pd.merge(merged_summary, per_school_budget, on=\"School Name\")\n",
    "\n",
    "# Rename the \"Student Count\" column to \"Total Students\" and \"Budget\" to \"Total School Budget\" for consistency\n",
    "merged_summary.rename(columns={\"Student Count\": \"Total Students\", \"Budget\": \"Total School Budget\"}, inplace=True)\n",
    "\n",
    "# Calculate Per Student Budget\n",
    "merged_summary[\"Per Student Budget\"] = merged_summary[\"Total School Budget\"] / merged_summary[\"Total Students\"]\n",
    "\n",
    "# Create the per_school_summary DataFrame\n",
    "per_school_summary = merged_summary[[\n",
    "    \"School Name\",\n",
    "    \"School Type\",\n",
    "    \"Total Students\",\n",
    "    \"Total School Budget\",\n",
    "    \"Per Student Budget\",\n",
    "    \"Average Math Score\",\n",
    "    \"Average Reading Score\",\n",
    "    \"% Passing Math\",\n",
    "    \"% Passing Reading\",\n",
    "    \"% Overall Passing\"\n",
    "]]\n",
    "\n",
    "# Formatting\n",
    "per_school_summary[\"Total School Budget\"] = per_school_summary[\"Total School Budget\"].map(\"${:,.2f}\".format)\n",
    "per_school_summary[\"Per Student Budget\"] = per_school_summary[\"Per Student Budget\"].map(\"${:,.2f}\".format)\n",
    "\n",
    "# Display the per_school_summary DataFrame\n",
    "print(\"Per School Summary:\")\n",
    "print(per_school_summary)\n",
    "\n",
    "# Sort the schools by `% Overall Passing` in descending order\n",
    "top_schools = merged_summary.sort_values(by=\"% Overall Passing\", ascending=False)\n",
    "\n",
    "# Display the top 5 rows\n",
    "print(\"Top 5 Schools by % Overall Passing:\")\n",
    "print(top_schools.head(5))\n"
   ]
  },
  {
   "cell_type": "markdown",
   "metadata": {},
   "source": [
    "## Bottom Performing Schools (By % Overall Passing)"
   ]
  },
  {
   "cell_type": "code",
   "execution_count": 24,
   "metadata": {},
   "outputs": [
    {
     "name": "stdout",
     "output_type": "stream",
     "text": [
      "Per School Summary:\n",
      "  School Name School Type  Total Students Total School Budget  \\\n",
      "0    School A      Public            1000       $2,000,000.00   \n",
      "1    School B     Private            1200       $2,400,000.00   \n",
      "2    School C     Charter            1400       $3,000,000.00   \n",
      "\n",
      "  Per Student Budget  Average Math Score  Average Reading Score  \\\n",
      "0          $2,000.00                75.5                   78.0   \n",
      "1          $2,000.00                80.3                   82.1   \n",
      "2          $2,142.86                78.9                   79.5   \n",
      "\n",
      "   % Passing Math  % Passing Reading  % Overall Passing  \n",
      "0            85.0               88.1               86.5  \n",
      "1            87.5               90.3               88.9  \n",
      "2            83.2               85.6               84.4  \n",
      "Bottom 5 Schools by % Overall Passing:\n",
      "  School Name  Average Math Score  Average Reading Score  % Passing Math  \\\n",
      "2    School C                78.9                   79.5            83.2   \n",
      "0    School A                75.5                   78.0            85.0   \n",
      "1    School B                80.3                   82.1            87.5   \n",
      "\n",
      "   % Passing Reading  % Overall Passing School Type  Total Students  \\\n",
      "2               85.6               84.4     Charter            1400   \n",
      "0               88.1               86.5      Public            1000   \n",
      "1               90.3               88.9     Private            1200   \n",
      "\n",
      "   Total School Budget  Per Student Budget  \n",
      "2              3000000         2142.857143  \n",
      "0              2000000         2000.000000  \n",
      "1              2400000         2000.000000  \n"
     ]
    }
   ],
   "source": [
    "import pandas as pd\n",
    "\n",
    "# Example school data (replace this with your actual data)\n",
    "school_data = pd.DataFrame({\n",
    "    \"School Name\": [\"School A\", \"School B\", \"School A\", \"School C\", \"School B\", \"School C\"],\n",
    "    \"Student Count\": [500, 600, 500, 700, 600, 700],\n",
    "    \"Budget\": [1000000, 1200000, 1000000, 1500000, 1200000, 1500000]\n",
    "})\n",
    "\n",
    "# Calculate the total student count per school\n",
    "per_school_counts = school_data.groupby(\"School Name\")[\"Student Count\"].sum().reset_index()\n",
    "\n",
    "# Calculate the total school budget per school\n",
    "per_school_budget = school_data.groupby(\"School Name\")[\"Budget\"].sum().reset_index()\n",
    "\n",
    "# Example school_summary data (replace this with your actual data)\n",
    "school_summary = pd.DataFrame({\n",
    "    \"School Name\": [\"School A\", \"School B\", \"School C\"],\n",
    "    \"Average Math Score\": [75.5, 80.3, 78.9],\n",
    "    \"Average Reading Score\": [78.0, 82.1, 79.5],\n",
    "    \"% Passing Math\": [85.0, 87.5, 83.2],\n",
    "    \"% Passing Reading\": [88.1, 90.3, 85.6],\n",
    "    \"% Overall Passing\": [86.5, 88.9, 84.4],\n",
    "    \"School Type\": [\"Public\", \"Private\", \"Charter\"]\n",
    "})\n",
    "\n",
    "# Merge the total student counts and budgets with the school_summary DataFrame\n",
    "merged_summary = pd.merge(school_summary, per_school_counts, on=\"School Name\")\n",
    "merged_summary = pd.merge(merged_summary, per_school_budget, on=\"School Name\")\n",
    "\n",
    "# Rename the \"Student Count\" column to \"Total Students\" and \"Budget\" to \"Total School Budget\" for consistency\n",
    "merged_summary.rename(columns={\"Student Count\": \"Total Students\", \"Budget\": \"Total School Budget\"}, inplace=True)\n",
    "\n",
    "# Calculate Per Student Budget\n",
    "merged_summary[\"Per Student Budget\"] = merged_summary[\"Total School Budget\"] / merged_summary[\"Total Students\"]\n",
    "\n",
    "# Create the per_school_summary DataFrame\n",
    "per_school_summary = merged_summary[[\n",
    "    \"School Name\",\n",
    "    \"School Type\",\n",
    "    \"Total Students\",\n",
    "    \"Total School Budget\",\n",
    "    \"Per Student Budget\",\n",
    "    \"Average Math Score\",\n",
    "    \"Average Reading Score\",\n",
    "    \"% Passing Math\",\n",
    "    \"% Passing Reading\",\n",
    "    \"% Overall Passing\"\n",
    "]]\n",
    "\n",
    "# Formatting\n",
    "per_school_summary[\"Total School Budget\"] = per_school_summary[\"Total School Budget\"].map(\"${:,.2f}\".format)\n",
    "per_school_summary[\"Per Student Budget\"] = per_school_summary[\"Per Student Budget\"].map(\"${:,.2f}\".format)\n",
    "\n",
    "# Display the per_school_summary DataFrame\n",
    "print(\"Per School Summary:\")\n",
    "print(per_school_summary)\n",
    "\n",
    "# Sort the schools by `% Overall Passing` in ascending order\n",
    "bottom_schools = merged_summary.sort_values(by=\"% Overall Passing\", ascending=True)\n",
    "\n",
    "# Display the top 5 rows\n",
    "print(\"Bottom 5 Schools by % Overall Passing:\")\n",
    "print(bottom_schools.head(5))\n"
   ]
  },
  {
   "cell_type": "markdown",
   "metadata": {},
   "source": [
    "## Math Scores by Grade"
   ]
  },
  {
   "cell_type": "code",
   "execution_count": null,
   "metadata": {},
   "outputs": [],
   "source": [
    "# Use the code provided to separate the data by grade\n",
    "ninth_graders = school_data_complete[(school_data_complete[\"grade\"] == \"9th\")]\n",
    "tenth_graders = school_data_complete[(school_data_complete[\"grade\"] == \"10th\")]\n",
    "eleventh_graders = school_data_complete[(school_data_complete[\"grade\"] == \"11th\")]\n",
    "twelfth_graders = school_data_complete[(school_data_complete[\"grade\"] == \"12th\")]\n",
    "\n",
    "# Group by `school_name` and take the mean of the `math_score` column for each.\n",
    "ninth_grade_math_scores = school_data_complete[(school_data_complete[\"grade\"] == \"9th\")]\n",
    "tenth_grader_math_scores = school_data_complete[(school_data_complete[\"grade\"] == \"10th\")]\n",
    "eleventh_grader_math_scores = school_data_complete[(school_data_complete[\"grade\"] == \"11th\")]\n",
    "twelfth_grader_math_scores = school_data_complete[(school_data_complete[\"grade\"] == \"12th\")]\n",
    "\n",
    "# Combine each of the scores above into single DataFrame called `math_scores_by_grade`\n",
    "math_scores_by_grade =  \n",
    "\n",
    "# Minor data wrangling\n",
    "math_scores_by_grade.index.name = None\n",
    "\n",
    "# Display the DataFrame\n",
    "math_scores_by_grade\n"
   ]
  },
  {
   "cell_type": "code",
   "execution_count": 26,
   "metadata": {},
   "outputs": [
    {
     "name": "stdout",
     "output_type": "stream",
     "text": [
      "           9th  10th  11th  12th\n",
      "School A  80.0  83.0  86.5  86.0\n",
      "School B  65.0  70.0  80.0  90.0\n"
     ]
    }
   ],
   "source": [
    "import pandas as pd\n",
    "\n",
    "# Example students data (replace this with your actual data)\n",
    "data = {\n",
    "    'student_id': [1, 2, 3, 4, 5, 6, 7, 8, 9, 10, 11, 12],\n",
    "    'grade': ['9th', '9th', '10th', '10th', '11th', '11th', '12th', '12th', '9th', '10th', '11th', '12th'],\n",
    "    'school': ['School A', 'School A', 'School A', 'School A', 'School A', 'School A', 'School A', 'School A', 'School B', 'School B', 'School B', 'School B'],\n",
    "    'math_score': [75, 85, 78, 88, 82, 91, 85, 87, 65, 70, 80, 90]\n",
    "}\n",
    "\n",
    "students = pd.DataFrame(data)\n",
    "\n",
    "# Math scores by grade\n",
    "ninth = students.loc[students['grade'] == '9th'].groupby(\"school\")\n",
    "ninth_math = ninth['math_score'].mean()\n",
    "tenth = students.loc[students['grade'] == '10th'].groupby(\"school\")\n",
    "tenth_math = tenth['math_score'].mean()\n",
    "eleventh = students.loc[students['grade'] == '11th'].groupby(\"school\")\n",
    "eleventh_math = eleventh['math_score'].mean()\n",
    "twelfth = students.loc[students['grade'] == '12th'].groupby(\"school\")\n",
    "twelfth_math = twelfth['math_score'].mean()\n",
    "\n",
    "# Create dataframe for math scores summary\n",
    "math_summary = pd.DataFrame({\n",
    "    \"9th\": ninth_math,\n",
    "    \"10th\": tenth_math,\n",
    "    \"11th\": eleventh_math,\n",
    "    \"12th\": twelfth_math\n",
    "})\n",
    "\n",
    "# Reorder columns\n",
    "math_summary = math_summary[[\"9th\", \"10th\", \"11th\", \"12th\"]]\n",
    "\n",
    "# Remove the index name\n",
    "math_summary.index.name = None\n",
    "\n",
    "# Display the summary dataframe\n",
    "print(math_summary.head())\n"
   ]
  },
  {
   "cell_type": "markdown",
   "metadata": {},
   "source": [
    "## Reading Score by Grade "
   ]
  },
  {
   "cell_type": "code",
   "execution_count": 27,
   "metadata": {},
   "outputs": [
    {
     "name": "stdout",
     "output_type": "stream",
     "text": [
      "           9th  10th  11th  12th\n",
      "School A  80.0  83.0  86.5  86.0\n",
      "School B  65.0  70.0  80.0  90.0\n"
     ]
    }
   ],
   "source": [
    "import pandas as pd\n",
    "\n",
    "# Example data (replace this with your actual data)\n",
    "school_data_complete = pd.DataFrame({\n",
    "    'student_id': [1, 2, 3, 4, 5, 6, 7, 8, 9, 10, 11, 12],\n",
    "    'grade': ['9th', '9th', '10th', '10th', '11th', '11th', '12th', '12th', '9th', '10th', '11th', '12th'],\n",
    "    'school_name': ['School A', 'School A', 'School A', 'School A', 'School A', 'School A', 'School A', 'School A', 'School B', 'School B', 'School B', 'School B'],\n",
    "    'reading_score': [75, 85, 78, 88, 82, 91, 85, 87, 65, 70, 80, 90]\n",
    "})\n",
    "\n",
    "# Separate the data by grade\n",
    "ninth_graders = school_data_complete[school_data_complete[\"grade\"] == \"9th\"]\n",
    "tenth_graders = school_data_complete[school_data_complete[\"grade\"] == \"10th\"]\n",
    "eleventh_graders = school_data_complete[school_data_complete[\"grade\"] == \"11th\"]\n",
    "twelfth_graders = school_data_complete[school_data_complete[\"grade\"] == \"12th\"]\n",
    "\n",
    "# Group by `school_name` and take the mean of the `reading_score` column for each grade\n",
    "ninth_grade_reading_scores = ninth_graders.groupby(\"school_name\")[\"reading_score\"].mean()\n",
    "tenth_grade_reading_scores = tenth_graders.groupby(\"school_name\")[\"reading_score\"].mean()\n",
    "eleventh_grade_reading_scores = eleventh_graders.groupby(\"school_name\")[\"reading_score\"].mean()\n",
    "twelfth_grade_reading_scores = twelfth_graders.groupby(\"school_name\")[\"reading_score\"].mean()\n",
    "\n",
    "# Combine each of the scores above into a single DataFrame called `reading_scores_by_grade`\n",
    "reading_scores_by_grade = pd.DataFrame({\n",
    "    \"9th\": ninth_grade_reading_scores,\n",
    "    \"10th\": tenth_grade_reading_scores,\n",
    "    \"11th\": eleventh_grade_reading_scores,\n",
    "    \"12th\": twelfth_grade_reading_scores\n",
    "})\n",
    "\n",
    "# Minor data wrangling\n",
    "reading_scores_by_grade = reading_scores_by_grade[[\"9th\", \"10th\", \"11th\", \"12th\"]]\n",
    "reading_scores_by_grade.index.name = None\n",
    "\n",
    "# Display the DataFrame\n",
    "print(reading_scores_by_grade)\n",
    "\n"
   ]
  },
  {
   "cell_type": "markdown",
   "metadata": {},
   "source": [
    "## Scores by School Spending"
   ]
  },
  {
   "cell_type": "code",
   "execution_count": 28,
   "metadata": {},
   "outputs": [],
   "source": [
    "# Establish the bins\n",
    "spending_bins = [0, 585, 630, 645, 680]\n",
    "labels = [\"<$585\", \"$585-630\", \"$630-645\", \"$645-680\"]\n"
   ]
  },
  {
   "cell_type": "code",
   "execution_count": 29,
   "metadata": {},
   "outputs": [],
   "source": [
    "# Create a copy of the school summary since it has the \"Per Student Budget\"\n",
    "school_spending_df = school_summary.copy()\n"
   ]
  },
  {
   "cell_type": "code",
   "execution_count": 30,
   "metadata": {},
   "outputs": [
    {
     "name": "stdout",
     "output_type": "stream",
     "text": [
      "  School Name  Per Capita Spending Spending Ranges (Per Student)\n",
      "0    School A                  500                         <$585\n",
      "1    School B                  650                      $645-675\n",
      "2    School C                  800                           NaN\n",
      "3    School D                  950                           NaN\n"
     ]
    }
   ],
   "source": [
    "import pandas as pd\n",
    "# Create a copy of the school summary since it has the \"Per Student Budget\"\n",
    "school_spending_df = school_summary.copy()\n",
    "# Example data (replace this with your actual data)\n",
    "school_spending_df = pd.DataFrame({\n",
    "    \"School Name\": [\"School A\", \"School B\", \"School C\", \"School D\"],\n",
    "    \"Per Capita Spending\": [500, 650, 800, 950]\n",
    "})\n",
    "\n",
    "# Define the bins and labels\n",
    "spending_bins = [0, 585, 615, 645, 675]\n",
    "spending_labels = [\"<$585\", \"$585-615\", \"$615-645\", \"$645-675\"]\n",
    "\n",
    "# Use `pd.cut` to categorize spending based on the bins\n",
    "school_spending_df[\"Spending Ranges (Per Student)\"] = pd.cut(school_spending_df[\"Per Capita Spending\"], bins=spending_bins, labels=spending_labels)\n",
    "\n",
    "# Display the DataFrame\n",
    "print(school_spending_df)\n"
   ]
  },
  {
   "cell_type": "code",
   "execution_count": 31,
   "metadata": {},
   "outputs": [
    {
     "name": "stderr",
     "output_type": "stream",
     "text": [
      "/var/folders/cd/262qfy0x67v9h9j0221gc6nh0000gn/T/ipykernel_24784/2698158762.py:23: FutureWarning: The default of observed=False is deprecated and will be changed to True in a future version of pandas. Pass observed=False to retain current behavior or observed=True to adopt the future default and silence this warning.\n",
      "  spending_math_scores = school_spending_df.groupby([\"Spending Ranges (Per Student)\"])[\"Average Math Score\"].mean()\n",
      "/var/folders/cd/262qfy0x67v9h9j0221gc6nh0000gn/T/ipykernel_24784/2698158762.py:24: FutureWarning: The default of observed=False is deprecated and will be changed to True in a future version of pandas. Pass observed=False to retain current behavior or observed=True to adopt the future default and silence this warning.\n",
      "  spending_reading_scores = school_spending_df.groupby([\"Spending Ranges (Per Student)\"])[\"Average Reading Score\"].mean()\n",
      "/var/folders/cd/262qfy0x67v9h9j0221gc6nh0000gn/T/ipykernel_24784/2698158762.py:25: FutureWarning: The default of observed=False is deprecated and will be changed to True in a future version of pandas. Pass observed=False to retain current behavior or observed=True to adopt the future default and silence this warning.\n",
      "  spending_passing_math = school_spending_df.groupby([\"Spending Ranges (Per Student)\"])[\"% Passing Math\"].mean()\n",
      "/var/folders/cd/262qfy0x67v9h9j0221gc6nh0000gn/T/ipykernel_24784/2698158762.py:26: FutureWarning: The default of observed=False is deprecated and will be changed to True in a future version of pandas. Pass observed=False to retain current behavior or observed=True to adopt the future default and silence this warning.\n",
      "  spending_passing_reading = school_spending_df.groupby([\"Spending Ranges (Per Student)\"])[\"% Passing Reading\"].mean()\n",
      "/var/folders/cd/262qfy0x67v9h9j0221gc6nh0000gn/T/ipykernel_24784/2698158762.py:27: FutureWarning: The default of observed=False is deprecated and will be changed to True in a future version of pandas. Pass observed=False to retain current behavior or observed=True to adopt the future default and silence this warning.\n",
      "  overall_passing_spending = school_spending_df.groupby([\"Spending Ranges (Per Student)\"])[\"% Overall Passing\"].mean()\n"
     ]
    },
    {
     "name": "stdout",
     "output_type": "stream",
     "text": [
      "Spending Summary:\n",
      "                               Average Math Score  Average Reading Score  \\\n",
      "Spending Ranges (Per Student)                                              \n",
      "<$585                                        75.0                   78.0   \n",
      "$585-615                                      NaN                    NaN   \n",
      "$615-645                                      NaN                    NaN   \n",
      "$645-675                                     85.0                   82.0   \n",
      ">$675                                        83.0                   82.5   \n",
      "\n",
      "                               % Passing Math  % Passing Reading  \\\n",
      "Spending Ranges (Per Student)                                      \n",
      "<$585                                    80.0               82.0   \n",
      "$585-615                                  NaN                NaN   \n",
      "$615-645                                  NaN                NaN   \n",
      "$645-675                                 90.0               88.0   \n",
      ">$675                                    88.5               87.5   \n",
      "\n",
      "                               % Overall Passing  \n",
      "Spending Ranges (Per Student)                     \n",
      "<$585                                       81.0  \n",
      "$585-615                                     NaN  \n",
      "$615-645                                     NaN  \n",
      "$645-675                                    89.0  \n",
      ">$675                                       88.0  \n"
     ]
    },
    {
     "data": {
      "image/png": "[encoded data removed]",
      "text/plain": [
       "<Figure size 1000x600 with 1 Axes>"
      ]
     },
     "metadata": {},
     "output_type": "display_data"
    }
   ],
   "source": [
    "import pandas as pd\n",
    "import matplotlib.pyplot as plt\n",
    "\n",
    "# Example data (replace this with your actual data)\n",
    "school_spending_df = pd.DataFrame({\n",
    "    \"School Name\": [\"School A\", \"School B\", \"School C\", \"School D\"],\n",
    "    \"Per Capita Spending\": [500, 650, 800, 950],\n",
    "    \"Average Math Score\": [75, 85, 78, 88],\n",
    "    \"Average Reading Score\": [78, 82, 80, 85],\n",
    "    \"% Passing Math\": [80, 90, 85, 92],\n",
    "    \"% Passing Reading\": [82, 88, 84, 91],\n",
    "    \"% Overall Passing\": [81, 89, 84.5, 91.5]\n",
    "})\n",
    "\n",
    "# Define the bins and labels\n",
    "spending_bins = [0, 585, 615, 645, 675, 1000]\n",
    "spending_labels = [\"<$585\", \"$585-615\", \"$615-645\", \"$645-675\", \">$675\"]\n",
    "\n",
    "# Use `pd.cut` to categorize spending based on the bins\n",
    "school_spending_df[\"Spending Ranges (Per Student)\"] = pd.cut(school_spending_df[\"Per Capita Spending\"], bins=spending_bins, labels=spending_labels)\n",
    "\n",
    "# Calculate averages for the desired columns\n",
    "spending_math_scores = school_spending_df.groupby([\"Spending Ranges (Per Student)\"])[\"Average Math Score\"].mean()\n",
    "spending_reading_scores = school_spending_df.groupby([\"Spending Ranges (Per Student)\"])[\"Average Reading Score\"].mean()\n",
    "spending_passing_math = school_spending_df.groupby([\"Spending Ranges (Per Student)\"])[\"% Passing Math\"].mean()\n",
    "spending_passing_reading = school_spending_df.groupby([\"Spending Ranges (Per Student)\"])[\"% Passing Reading\"].mean()\n",
    "overall_passing_spending = school_spending_df.groupby([\"Spending Ranges (Per Student)\"])[\"% Overall Passing\"].mean()\n",
    "\n",
    "# Combine the results into a single DataFrame\n",
    "spending_summary = pd.DataFrame({\n",
    "    \"Average Math Score\": spending_math_scores,\n",
    "    \"Average Reading Score\": spending_reading_scores,\n",
    "    \"% Passing Math\": spending_passing_math,\n",
    "    \"% Passing Reading\": spending_passing_reading,\n",
    "    \"% Overall Passing\": overall_passing_spending\n",
    "})\n",
    "\n",
    "# Display the spending summary\n",
    "print(\"Spending Summary:\")\n",
    "print(spending_summary)\n",
    "\n",
    "# Visualize the distribution of schools across spending categories\n",
    "school_distribution = school_spending_df[\"Spending Ranges (Per Student)\"].value_counts().sort_index()\n",
    "school_distribution.plot(kind='bar', figsize=(10, 6), color='skyblue', edgecolor='black')\n",
    "\n",
    "plt.title(\"Distribution of Schools Across Spending Categories\")\n",
    "plt.xlabel(\"Spending Ranges (Per Student)\")\n",
    "plt.ylabel(\"Number of Schools\")\n",
    "plt.xticks(rotation=45)\n",
    "plt.show()\n"
   ]
  },
  {
   "cell_type": "code",
   "execution_count": 32,
   "metadata": {},
   "outputs": [
    {
     "ename": "SyntaxError",
     "evalue": "invalid syntax (2206335157.py, line 2)",
     "output_type": "error",
     "traceback": [
      "\u001b[0;36m  Cell \u001b[0;32mIn[32], line 2\u001b[0;36m\u001b[0m\n\u001b[0;31m    spending_summary =\u001b[0m\n\u001b[0m                      ^\u001b[0m\n\u001b[0;31mSyntaxError\u001b[0m\u001b[0;31m:\u001b[0m invalid syntax\n"
     ]
    }
   ],
   "source": [
    "# Assemble into DataFrame\n",
    "spending_summary =\n",
    "\n",
    "# Display results\n",
    "spending_summary\n"
   ]
  },
  {
   "cell_type": "markdown",
   "metadata": {},
   "source": [
    "## Scores by School Size"
   ]
  },
  {
   "cell_type": "code",
   "execution_count": null,
   "metadata": {},
   "outputs": [],
   "source": [
    "# Establish the bins.\n",
    "size_bins = [0, 1000, 2000, 5000]\n",
    "labels = [\"Small (<1000)\", \"Medium (1000-2000)\", \"Large (2000-5000)\"]\n"
   ]
  },
  {
   "cell_type": "code",
   "execution_count": null,
   "metadata": {},
   "outputs": [],
   "source": [
    "# Dependencies and Setup\n",
    "import pandas as pd\n",
    "from pathlib import Path\n",
    "\n",
    "# File to Load (Remember to Change These)\n",
    "school_data_to_load = Path(\"Resources/schools_complete.csv\")\n",
    "student_data_to_load = Path(\"Resources/students_complete.csv\")\n",
    "\n",
    "# Read School and Student Data File and store into Pandas DataFrames\n",
    "school_data = pd.read_csv(school_data_to_load)\n",
    "student_data = pd.read_csv(student_data_to_load)\n"
   ]
  },
  {
   "cell_type": "code",
   "execution_count": null,
   "metadata": {},
   "outputs": [],
   "source": [
    "import pandas as pd\n",
    "\n",
    "# Example data (replace this with your actual data)\n",
    "total_students = [1000, 1200, 1500, 2000, 1800, 850]\n",
    "average_math_score = [75.5, 80.3, 78.9, 85.2, 79.0, 82.1]\n",
    "average_reading_score = [78.0, 82.1, 79.5, 88.3, 80.5, 84.0]\n",
    "passing_math = [85.0, 87.5, 83.2, 90.1, 84.3, 86.7]\n",
    "passing_reading = [88.1, 90.3, 85.6, 91.5, 86.4, 89.0]\n",
    "overall_passing = [86.5, 88.9, 84.4, 90.8, 85.4, 87.8]\n",
    "\n",
    "# Create the initial DataFrame\n",
    "school_summary = pd.DataFrame({\n",
    "    \"Total Students\": total_students,\n",
    "    \"Average Math Score\": average_math_score,\n",
    "    \"Average Reading Score\": average_reading_score,\n",
    "    \"% Passing Math\": passing_math,\n",
    "    \"% Passing Reading\": passing_reading,\n",
    "    \"% Overall Passing\": overall_passing\n",
    "})\n",
    "\n",
    "# Define the function to categorize school size\n",
    "def categorize_school_size(total_students):\n",
    "    if total_students < 1000:\n",
    "        return 'Small (<1000)'\n",
    "    elif total_students < 2000:\n",
    "        return 'Medium (1000-1999)'\n",
    "    else:\n",
    "        return 'Large (2000+)'\n",
    "\n",
    "# Categorize each school by size\n",
    "school_summary[\"School Size\"] = school_summary[\"Total Students\"].apply(categorize_school_size)\n",
    "\n",
    "# Group by the school size and calculate the mean for each metric\n",
    "size_summary = school_summary.groupby(\"School Size\").mean()\n",
    "\n",
    "# Display results\n",
    "print(\"School Summary with Size Category:\")\n",
    "print(school_summary)\n",
    "print(\"\\nSize Summary:\")\n",
    "print(size_summary)\n"
   ]
  },
  {
   "cell_type": "code",
   "execution_count": 33,
   "metadata": {},
   "outputs": [
    {
     "name": "stdout",
     "output_type": "stream",
     "text": [
      "   Total Students  Average Math Score  Average Reading Score  % Passing Math  \\\n",
      "0            1000                75.5                   78.0            85.0   \n",
      "1            1200                80.3                   82.1            87.5   \n",
      "2            1500                78.9                   79.5            83.2   \n",
      "\n",
      "   % Passing Reading  % Overall Passing  \n",
      "0               88.1               86.5  \n",
      "1               90.3               88.9  \n",
      "2               85.6               84.4  \n"
     ]
    }
   ],
   "source": [
    "import pandas as pd\n",
    "# Assemble into DataFrame\n",
    "# Assuming you have already calculated these values\n",
    "total_students = [1000, 1200, 1500]\n",
    "average_math_score = [75.5, 80.3, 78.9]\n",
    "average_reading_score = [78.0, 82.1, 79.5]\n",
    "passing_math = [85.0, 87.5, 83.2]\n",
    "passing_reading = [88.1, 90.3, 85.6]\n",
    "overall_passing = [86.5, 88.9, 84.4]\n",
    "\n",
    "# Create the DataFrame\n",
    "school_summary = pd.DataFrame({\n",
    "    \"Total Students\": total_students,\n",
    "    \"Average Math Score\": average_math_score,\n",
    "    \"Average Reading Score\": average_reading_score,\n",
    "    \"% Passing Math\": passing_math,\n",
    "    \"% Passing Reading\": passing_reading,\n",
    "    \"% Overall Passing\": overall_passing\n",
    "})\n",
    "\n",
    "# Display the DataFrame\n",
    "print(school_summary)"
   ]
  },
  {
   "cell_type": "markdown",
   "metadata": {},
   "source": [
    "## Scores by School Type"
   ]
  },
  {
   "cell_type": "code",
   "execution_count": 34,
   "metadata": {},
   "outputs": [
    {
     "name": "stdout",
     "output_type": "stream",
     "text": [
      "Type Summary:\n",
      "             Average Math Score  Average Reading Score  % Passing Math  \\\n",
      "School Type                                                              \n",
      "Charter                   78.95                  80.00           83.75   \n",
      "Private                   81.20                  83.05           87.10   \n",
      "Public                    80.35                  83.15           87.55   \n",
      "\n",
      "             % Passing Reading  % Overall Passing  \n",
      "School Type                                        \n",
      "Charter                  86.00              84.90  \n",
      "Private                  89.65              88.35  \n",
      "Public                   89.80              88.65  \n"
     ]
    }
   ],
   "source": [
    "import pandas as pd\n",
    "\n",
    "# Example data (replace this with your actual data)\n",
    "total_students = [1000, 1200, 1500, 2000, 1800, 850]\n",
    "average_math_score = [75.5, 80.3, 78.9, 85.2, 79.0, 82.1]\n",
    "average_reading_score = [78.0, 82.1, 79.5, 88.3, 80.5, 84.0]\n",
    "passing_math = [85.0, 87.5, 83.2, 90.1, 84.3, 86.7]\n",
    "passing_reading = [88.1, 90.3, 85.6, 91.5, 86.4, 89.0]\n",
    "overall_passing = [86.5, 88.9, 84.4, 90.8, 85.4, 87.8]\n",
    "school_type = [\"Public\", \"Private\", \"Charter\", \"Public\", \"Charter\", \"Private\"]\n",
    "\n",
    "# Create the initial DataFrame\n",
    "school_summary = pd.DataFrame({\n",
    "    \"Total Students\": total_students,\n",
    "    \"Average Math Score\": average_math_score,\n",
    "    \"Average Reading Score\": average_reading_score,\n",
    "    \"% Passing Math\": passing_math,\n",
    "    \"% Passing Reading\": passing_reading,\n",
    "    \"% Overall Passing\": overall_passing,\n",
    "    \"School Type\": school_type\n",
    "})\n",
    "\n",
    "# Group the per_school_summary DataFrame by \"School Type\" and average the results\n",
    "average_math_score_by_type = school_summary.groupby(\"School Type\")[\"Average Math Score\"].mean()\n",
    "average_reading_score_by_type = school_summary.groupby(\"School Type\")[\"Average Reading Score\"].mean()\n",
    "average_percent_passing_math_by_type = school_summary.groupby(\"School Type\")[\"% Passing Math\"].mean()\n",
    "average_percent_passing_reading_by_type = school_summary.groupby(\"School Type\")[\"% Passing Reading\"].mean()\n",
    "average_percent_overall_passing_by_type = school_summary.groupby(\"School Type\")[\"% Overall Passing\"].mean()\n",
    "\n",
    "# Combine the results into a single DataFrame\n",
    "type_summary = pd.DataFrame({\n",
    "    \"Average Math Score\": average_math_score_by_type,\n",
    "    \"Average Reading Score\": average_reading_score_by_type,\n",
    "    \"% Passing Math\": average_percent_passing_math_by_type,\n",
    "    \"% Passing Reading\": average_percent_passing_reading_by_type,\n",
    "    \"% Overall Passing\": average_percent_overall_passing_by_type\n",
    "})\n",
    "\n",
    "# Display results\n",
    "print(\"Type Summary:\")\n",
    "print(type_summary)\n"
   ]
  },
  {
   "cell_type": "code",
   "execution_count": null,
   "metadata": {},
   "outputs": [],
   "source": []
  },
  {
   "cell_type": "code",
   "execution_count": null,
   "metadata": {},
   "outputs": [],
   "source": []
  }
 ],
 "metadata": {
  "anaconda-cloud": {},
  "kernel_info": {
   "name": "python3"
  },
  "kernelspec": {
   "display_name": "Python 3 (ipykernel)",
   "language": "python",
   "name": "python3"
  },
  "language_info": {
   "codemirror_mode": {
    "name": "ipython",
    "version": 3
   },
   "file_extension": ".py",
   "mimetype": "text/x-python",
   "name": "python",
   "nbconvert_exporter": "python",
   "pygments_lexer": "ipython3",
   "version": "3.12.3"
  },
  "latex_envs": {
   "LaTeX_envs_menu_present": true,
   "autoclose": false,
   "autocomplete": true,
   "bibliofile": "biblio.bib",
   "cite_by": "apalike",
   "current_citInitial": 1,
   "eqLabelWithNumbers": true,
   "eqNumInitial": 1,
   "hotkeys": {
    "equation": "Ctrl-E",
    "itemize": "Ctrl-I"
   },
   "labels_anchors": false,
   "latex_user_defs": false,
   "report_style_numbering": false,
   "user_envs_cfg": false
  },
  "nteract": {
   "version": "0.8.4"
  },
  "vscode": {
   "interpreter": {
    "hash": "5384d77d82de63fd599f73e77f9ec786e7719288bf80a29ec0288c670ac3cf32"
   }
  }
 },
 "nbformat": 4,
 "nbformat_minor": 4
}
